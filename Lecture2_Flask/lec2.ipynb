{
 "cells": [
  {
   "cell_type": "markdown",
   "metadata": {},
   "source": [
    "# CS50's Web Programming with Python and Javascript\n",
    "\n",
    "## Lecture 2 - Flask"
   ]
  },
  {
   "cell_type": "markdown",
   "metadata": {},
   "source": [
    "<font color='purple'>\n",
    "### 1. Hello world, I/O, Variable types, "
   ]
  },
  {
   "cell_type": "code",
   "execution_count": 4,
   "metadata": {},
   "outputs": [
    {
     "name": "stdout",
     "output_type": "stream",
     "text": [
      "Hello, world\n"
     ]
    }
   ],
   "source": [
    "# Hello world\n",
    "print(\"Hello, world\")"
   ]
  },
  {
   "cell_type": "code",
   "execution_count": 5,
   "metadata": {},
   "outputs": [
    {
     "name": "stdout",
     "output_type": "stream",
     "text": [
      "Edu\n",
      "Hello, Edu!\n",
      "Hello, Edu!\n"
     ]
    }
   ],
   "source": [
    "# Format strings\n",
    "name = input()\n",
    "print(f\"Hello, {name}!\")\n",
    "\n",
    "# Older version for formatting:\n",
    "print(\"Hello, {}!\".format(name))"
   ]
  },
  {
   "cell_type": "code",
   "execution_count": 6,
   "metadata": {},
   "outputs": [],
   "source": [
    "# Command-line arguments - 'sys' package"
   ]
  },
  {
   "cell_type": "code",
   "execution_count": 7,
   "metadata": {},
   "outputs": [
    {
     "name": "stdout",
     "output_type": "stream",
     "text": [
      "i is 28\n",
      "<class 'int'>\n",
      "f is 2.8\n",
      "<class 'float'>\n",
      "b is True\n",
      "<class 'bool'>\n",
      "n is None\n",
      "<class 'NoneType'>\n"
     ]
    }
   ],
   "source": [
    "# Variable types\n",
    "i = 28\n",
    "print(f\"i is {i}\")\n",
    "print(type(i))\n",
    "\n",
    "f = 2.8\n",
    "print(f\"f is {f}\")\n",
    "print(type(f))\n",
    "\n",
    "b = True\n",
    "print(f\"b is {b}\")\n",
    "print(type(b))\n",
    "\n",
    "n = None\n",
    "print(f\"n is {n}\")\n",
    "print(type(n))"
   ]
  },
  {
   "cell_type": "markdown",
   "metadata": {},
   "source": [
    "<font color='purple'>\n",
    "### 2. Flow control"
   ]
  },
  {
   "cell_type": "code",
   "execution_count": 8,
   "metadata": {},
   "outputs": [
    {
     "name": "stdout",
     "output_type": "stream",
     "text": [
      "-2\n",
      "x is negative\n"
     ]
    }
   ],
   "source": [
    "x = float(input())\n",
    "if x > 0:\n",
    "    print(\"x is positive\")\n",
    "elif x < 0:\n",
    "    print(\"x is negative\")\n",
    "else:\n",
    "    print(\"x is zero\")"
   ]
  },
  {
   "cell_type": "code",
   "execution_count": 9,
   "metadata": {},
   "outputs": [
    {
     "name": "stdout",
     "output_type": "stream",
     "text": [
      "10\n",
      "11\n",
      "12\n"
     ]
    }
   ],
   "source": [
    "for i in range(10,13):\n",
    "    print(i)"
   ]
  },
  {
   "cell_type": "code",
   "execution_count": 10,
   "metadata": {},
   "outputs": [
    {
     "name": "stdout",
     "output_type": "stream",
     "text": [
      "Alice\n",
      "2\n",
      "Charlie\n"
     ]
    }
   ],
   "source": [
    "names = [\"Alice\", 2, \"Charlie\"]\n",
    "for name in names:\n",
    "    print(name)"
   ]
  },
  {
   "cell_type": "markdown",
   "metadata": {},
   "source": [
    "<font color='purple'>\n",
    "### 3. Data types\n",
    "    \n",
    "[Tutorial](http://thomas-cokelaer.info/tutorials/python/data_structures.html)"
   ]
  },
  {
   "cell_type": "markdown",
   "metadata": {},
   "source": [
    "- **String**\n",
    "- **Tuple**\n",
    "- **List**: ordered sequence of data\n",
    "- **Dictionaries**\n",
    "- **Set**: collection of items without duplicates"
   ]
  },
  {
   "cell_type": "code",
   "execution_count": 11,
   "metadata": {},
   "outputs": [
    {
     "name": "stdout",
     "output_type": "stream",
     "text": [
      "<class 'str'>\n",
      "<class 'tuple'>\n",
      "<class 'list'>\n",
      "A\n",
      "20.0\n",
      "Charlie\n"
     ]
    }
   ],
   "source": [
    "# Although not mandatory, it is of good design to make all items in a list of the same type\n",
    "name = \"Alice\"\n",
    "coordinates = (10.0, 20.0) # tuple\n",
    "names = [\"Alice\", \"Bob\", \"Charlie\"] # list\n",
    "\n",
    "print(type(name))\n",
    "print(type(coordinates))\n",
    "print(type(names))\n",
    "\n",
    "print(name[0])\n",
    "print(coordinates[1])\n",
    "print(names[2])"
   ]
  },
  {
   "cell_type": "code",
   "execution_count": 12,
   "metadata": {},
   "outputs": [
    {
     "name": "stdout",
     "output_type": "stream",
     "text": [
      "<class 'tuple'>\n",
      "True\n",
      "1\n",
      "True\n",
      "1.0\n",
      "1\n"
     ]
    }
   ],
   "source": [
    "# Tuple - similar to list, but faster\n",
    "my_tuple = (1, True, 1.0, \"1\")\n",
    "print(type(my_tuple))\n",
    "print(my_tuple[1])\n",
    "for item in my_tuple:\n",
    "    print(item)\n",
    "    \n",
    "# Error: unlike lists, tuples are immutable, e.g.:\n",
    "# my_tuple[1] = False "
   ]
  },
  {
   "cell_type": "code",
   "execution_count": 13,
   "metadata": {
    "scrolled": true
   },
   "outputs": [
    {
     "name": "stdout",
     "output_type": "stream",
     "text": [
      "<class 'dict'>\n",
      "dict_keys(['key1', 'key2', 'key3'])\n",
      "dict_values(['value1', 2.0, False])\n",
      "dict_items([('key1', 'value1'), ('key2', 2.0), ('key3', False)])\n",
      "False\n",
      "{'key1': 'value2', 'key2': 3.2, 'key3': False}\n"
     ]
    }
   ],
   "source": [
    "# Dictionary\n",
    "# Dicts are not sorted; \n",
    "dic = {\"key1\": 'value1',\n",
    "       \"key2\": 2.0,\n",
    "       \"key3\": False\n",
    "      }\n",
    "print(type(dic))\n",
    "\n",
    "print(dic.keys())\n",
    "print(dic.values())\n",
    "print(dic.items())\n",
    "\n",
    "print(dic[\"key3\"]) # == dic.get(\"key3\")\n",
    "\n",
    "# Doesn't support duplicate keys\n",
    "dic[\"key1\"] = 'value2'\n",
    "dic[\"key2\"] += 1.2\n",
    "print(dic)"
   ]
  },
  {
   "cell_type": "code",
   "execution_count": 14,
   "metadata": {
    "scrolled": true
   },
   "outputs": [
    {
     "name": "stdout",
     "output_type": "stream",
     "text": [
      "<class 'set'>\n",
      "{1, 3, 5}\n",
      "True\n",
      "False\n"
     ]
    }
   ],
   "source": [
    "# Set (obs.: for immutable sets, use frozensets)\n",
    "s = set()\n",
    "s.add(1)\n",
    "s.add(3)\n",
    "s.add(5)\n",
    "s.add(3)\n",
    "print(type(s))\n",
    "\n",
    "print(s)\n",
    "result = 1 in s\n",
    "print(result)\n",
    "result = 2 in s\n",
    "print(result)"
   ]
  },
  {
   "cell_type": "markdown",
   "metadata": {},
   "source": [
    "<font color='purple'>\n",
    "### 4. Functions"
   ]
  },
  {
   "cell_type": "code",
   "execution_count": 15,
   "metadata": {},
   "outputs": [
    {
     "name": "stdout",
     "output_type": "stream",
     "text": [
      "0 squared is 0\n",
      "1 squared is 1\n",
      "2 squared is 4\n",
      "3 squared is 9\n",
      "4 squared is 16\n",
      "5 squared is 25\n",
      "6 squared is 36\n",
      "7 squared is 49\n",
      "8 squared is 64\n",
      "9 squared is 81\n"
     ]
    }
   ],
   "source": [
    "def square(x):\n",
    "    return x**2\n",
    "\n",
    "for i in range(10):\n",
    "    # Older version for formatting:\n",
    "    print(\"{} squared is {}\".format(i, square(i)))\n",
    "    # Alternativa: print(f\"{i} squared is {square(i)}\")"
   ]
  },
  {
   "cell_type": "code",
   "execution_count": 16,
   "metadata": {},
   "outputs": [
    {
     "name": "stdout",
     "output_type": "stream",
     "text": [
      "100\n"
     ]
    }
   ],
   "source": [
    "# Referring to a function that exists in another file\n",
    "# from <python_file> import <function_name>\n",
    "from functions import square\n",
    "\n",
    "# Be very careful, because sometimes it runs more things\n",
    "# than just the function itself\n",
    "# (To see the error, run this cell before the next)\n",
    "print(square(10))\n"
   ]
  },
  {
   "cell_type": "code",
   "execution_count": 17,
   "metadata": {},
   "outputs": [
    {
     "name": "stdout",
     "output_type": "stream",
     "text": [
      "100\n"
     ]
    }
   ],
   "source": [
    "# In order to correct it,\n",
    "#    put all the code that I want to run ONLY when actually\n",
    "#     calling this file inside a \"main\" function &  make\n",
    "#     \" if __name__==\"__main__\":\n",
    "#           main()\n",
    "#     \"\n",
    "from functions_corrected import square\n",
    "print(square(10))"
   ]
  },
  {
   "cell_type": "markdown",
   "metadata": {},
   "source": [
    "<font color='purple'>\n",
    "### 5. Classes"
   ]
  },
  {
   "cell_type": "markdown",
   "metadata": {},
   "source": [
    "Way of defining entirely new types in python.\n",
    "\n"
   ]
  },
  {
   "cell_type": "code",
   "execution_count": 18,
   "metadata": {},
   "outputs": [
    {
     "name": "stdout",
     "output_type": "stream",
     "text": [
      "3\n",
      "5\n"
     ]
    }
   ],
   "source": [
    "class Point:\n",
    "    # \"When I create a new 'Point', what info do I need?\"\n",
    "    def __init__(self, x, y):\n",
    "        self.x = x\n",
    "        self.y = y\n",
    "        \n",
    "p = Point(3,5)\n",
    "print(p.x)\n",
    "print(p.y)"
   ]
  }
 ],
 "metadata": {
  "kernelspec": {
   "display_name": "Python 3",
   "language": "python",
   "name": "python3"
  },
  "language_info": {
   "codemirror_mode": {
    "name": "ipython",
    "version": 3
   },
   "file_extension": ".py",
   "mimetype": "text/x-python",
   "name": "python",
   "nbconvert_exporter": "python",
   "pygments_lexer": "ipython3",
   "version": "3.6.4"
  }
 },
 "nbformat": 4,
 "nbformat_minor": 2
}
